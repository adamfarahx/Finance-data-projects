{
 "cells": [
  {
   "cell_type": "code",
   "execution_count": 7,
   "id": "81e2fd8d-7646-4598-ac57-b6a728d7524a",
   "metadata": {},
   "outputs": [
    {
     "name": "stderr",
     "output_type": "stream",
     "text": [
      "[*********************100%***********************]  1 of 1 completed"
     ]
    },
    {
     "name": "stdout",
     "output_type": "stream",
     "text": [
      "Ticker                            SPY\n",
      "Date                                 \n",
      "2023-01-03 00:00:00+00:00  380.820007\n",
      "2023-01-04 00:00:00+00:00  383.760010\n",
      "2023-01-05 00:00:00+00:00  379.380005\n",
      "2023-01-06 00:00:00+00:00  388.079987\n",
      "2023-01-09 00:00:00+00:00  387.859985\n",
      "...                               ...\n",
      "2024-11-15 00:00:00+00:00  585.750000\n",
      "2024-11-18 00:00:00+00:00  588.150024\n",
      "2024-11-19 00:00:00+00:00  590.299988\n",
      "2024-11-20 00:00:00+00:00  590.500000\n",
      "2024-11-21 00:00:00+00:00  591.530029\n",
      "\n",
      "[476 rows x 1 columns]\n"
     ]
    },
    {
     "name": "stderr",
     "output_type": "stream",
     "text": [
      "\n"
     ]
    }
   ],
   "source": [
    "import yfinance as yf\n",
    "import pandas as pd\n",
    "\n",
    "# Define the ticker symbol\n",
    "ticker = \"SPY\"\n",
    "\n",
    "# Define the date range\n",
    "start_date = \"2023-01-01\"\n",
    "end_date = \"2024-12-31\"\n",
    "\n",
    "# Download the data\n",
    "spy_data = yf.download(ticker, start=start_date, end=end_date)\n",
    "\n",
    "# Extract only the closing prices\n",
    "spy_closing_prices = spy_data['Close']\n",
    "\n",
    "# Display the data\n",
    "print(spy_closing_prices)\n",
    "\n",
    "# Save to a CSV file (optional)\n",
    "spy_closing_prices.to_csv(\"SPY_closing_prices_2023_2024.csv\", header=True)\n"
   ]
  }
 ],
 "metadata": {
  "kernelspec": {
   "display_name": "Python 3 (ipykernel)",
   "language": "python",
   "name": "python3"
  },
  "language_info": {
   "codemirror_mode": {
    "name": "ipython",
    "version": 3
   },
   "file_extension": ".py",
   "mimetype": "text/x-python",
   "name": "python",
   "nbconvert_exporter": "python",
   "pygments_lexer": "ipython3",
   "version": "3.12.4"
  }
 },
 "nbformat": 4,
 "nbformat_minor": 5
}
